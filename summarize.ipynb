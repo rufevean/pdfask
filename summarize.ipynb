{
 "cells": [
  {
   "cell_type": "code",
   "execution_count": 40,
   "metadata": {},
   "outputs": [
    {
     "name": "stderr",
     "output_type": "stream",
     "text": [
      "[nltk_data] Downloading package punkt_tab to\n",
      "[nltk_data]     /home/rufevean/nltk_data...\n",
      "[nltk_data]   Package punkt_tab is already up-to-date!\n"
     ]
    },
    {
     "data": {
      "text/plain": [
       "True"
      ]
     },
     "execution_count": 40,
     "metadata": {},
     "output_type": "execute_result"
    }
   ],
   "source": [
    "nltk.download('punkt_tab')"
   ]
  },
  {
   "cell_type": "code",
   "execution_count": 41,
   "metadata": {},
   "outputs": [],
   "source": [
    "## Importing libraries\n",
    "\n",
    "from pypdf import PdfReader\n",
    "import nltk\n",
    "from nltk.corpus import stopwords"
   ]
  },
  {
   "cell_type": "code",
   "execution_count": 42,
   "metadata": {},
   "outputs": [],
   "source": [
    "# reader = PdfReader('data.pdf')\n",
    "# page = reader.pages[0]\n",
    "# text = page.extract_text()"
   ]
  },
  {
   "cell_type": "code",
   "execution_count": 43,
   "metadata": {},
   "outputs": [],
   "source": [
    "# text input \n",
    "f = open('data2.txt', 'r') \n",
    "content = f.read()\n",
    "text = content "
   ]
  },
  {
   "cell_type": "code",
   "execution_count": 44,
   "metadata": {},
   "outputs": [],
   "source": [
    "def create_frequency_table(text) -> dict :\n",
    "    stopWords = set(stopwords.words(\"english\"))\n",
    "    words = nltk.word_tokenize(text)\n",
    "    ps = nltk.PorterStemmer() \n",
    "    \n",
    "    freqtable  = dict()\n",
    "    for word in words:\n",
    "        word = ps.stem(word)\n",
    "        if word in stopWords:\n",
    "            continue\n",
    "        if word in freqtable:\n",
    "            freqtable[word] += 1\n",
    "        else:\n",
    "            freqtable[word] = 1\n",
    "    return freqtable\n",
    "sentences = nltk.sent_tokenize(text)\n",
    "freqtable = create_frequency_table(text)\n",
    "def score_sentences(sentences,freqtable):\n",
    "    setencevalue = dict()\n",
    "    for sentence in sentences:\n",
    "        wordcount = len(nltk.word_tokenize(sentence))\n",
    "        wordcountwithoutstopwords = 0\n",
    "        for wordValue in freqtable:\n",
    "            if wordValue in sentence.lower():\n",
    "                wordcountwithoutstopwords += 1\n",
    "                if sentence[:10] in setencevalue:\n",
    "                    setencevalue[sentence[:10]] += freqtable[wordValue]\n",
    "                else:\n",
    "                    setencevalue[sentence[:10]] = freqtable[wordValue]\n",
    "        setencevalue[sentence[:10]] = setencevalue[sentence[:10]] / wordcountwithoutstopwords \n",
    "    return setencevalue\n",
    "setencevalue = score_sentences(sentences,freqtable)\n",
    "\n",
    "def find_average_score(sentenceValue) -> int:\n",
    "    sumValues = 0\n",
    "    for entry in sentenceValue:\n",
    "        sumValues += sentenceValue[entry]\n",
    "    average = (sumValues / len(sentenceValue))\n",
    "    return average\n",
    "def summarize(sentences,sentenceValue,threshold):\n",
    "    sentence_count = 0\n",
    "    summary = ''\n",
    "    for sentence in sentences:\n",
    "        if sentence[:10] in sentenceValue and sentenceValue[sentence[:10]] > (threshold):\n",
    "            summary += \" \" + sentence\n",
    "            sentence_count += 1\n",
    "    return summary"
   ]
  },
  {
   "cell_type": "code",
   "execution_count": 45,
   "metadata": {},
   "outputs": [
    {
     "name": "stdout",
     "output_type": "stream",
     "text": [
      " To be honest, I don’t have the answers. Same failure, yet different responses. Neither. Don’t leave it to other people or outside circumstances to motivate you because you will be let down every time. Commit to it. Nurture your dreams. Don’t leave your dreams to chance.\n"
     ]
    }
   ],
   "source": [
    "summary = summarize(sentences,setencevalue,1.5*find_average_score(setencevalue))\n",
    "print(summary)"
   ]
  },
  {
   "cell_type": "code",
   "execution_count": null,
   "metadata": {},
   "outputs": [],
   "source": []
  },
  {
   "cell_type": "code",
   "execution_count": null,
   "metadata": {},
   "outputs": [],
   "source": []
  }
 ],
 "metadata": {
  "kernelspec": {
   "display_name": "Python 3",
   "language": "python",
   "name": "python3"
  },
  "language_info": {
   "codemirror_mode": {
    "name": "ipython",
    "version": 3
   },
   "file_extension": ".py",
   "mimetype": "text/x-python",
   "name": "python",
   "nbconvert_exporter": "python",
   "pygments_lexer": "ipython3",
   "version": "3.12.5"
  }
 },
 "nbformat": 4,
 "nbformat_minor": 2
}
